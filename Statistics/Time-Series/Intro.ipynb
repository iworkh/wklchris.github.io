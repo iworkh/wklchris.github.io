{
 "cells": [
  {
   "cell_type": "markdown",
   "metadata": {},
   "source": [
    "# 时间序列简介\n",
    "\n",
    "本章对时间序列进行简要的介绍，并在章末辅以例子进行说明。"
   ]
  },
  {
   "cell_type": "code",
   "execution_count": 1,
   "metadata": {
    "nbsphinx": "hidden"
   },
   "outputs": [],
   "source": [
    "# This cell is hidden by nbsphinx.\n",
    "#   Jupyter's R support on figure size. Usage:\n",
    "#   options(repr.plot.width=..., repr.plot.height=...)\n",
    "options(warn=-1)\n",
    "library(repr)"
   ]
  },
  {
   "cell_type": "markdown",
   "metadata": {},
   "source": [
    "## 简介与定义\n",
    "\n",
    "对于时间序列最粗浅的理解就是：按时间顺序排列的一系列对某事物的重复观测。这个理解非常粗浅，也比定义要狭隘一些，但也是符合直觉的。著名的太阳黑子数观测数据集是一个时间序列数据集，也比较贴合上述的粗浅解释。\n",
    "\n",
    "对时间序列的定义绕不开随机过程。一个更数学化的定义是这样的：\n",
    "\n",
    "<div class=\"alert alert-info\">\n",
    "\n",
    "**定义（时间序列）：** \n",
    "\n",
    "对非空的下标集合 $T$，由随机变量 $X_t$ 组成的序列 $(X_t: t\\in T)$ 定义了一个在概率空间 $(\\Omega, A, P)$ 上的 **随机过程（Stochastic Process）**。如果 $\\omega\\in \\Omega$ 固定，那么映射 $t\\to X_t(\\omega)$ 被称为该随机过程的**时间序列（Time Series）**，有时也称为该随机过程的采样路径（sample path）或者实现（realization）。上述映射后的结果 $X_t(\\omega)$ 通常记为小写的 $(x_t: t\\in T)$。\n",
    "\n",
    "</div>\n",
    "\n",
    "定义实在是有点抽象，通过太阳黑子数观测集的例子来体会一下吧。SILSO 提供了一份太阳黑子观测数据集（[SILSO 网站数据集](http://sidc.be/silso/datafiles)）。这里我们以 1700 年到 1999 年的每年平均黑子数为例：\n",
    "\n",
    "- 下标集合是 $T = 1700, 1701, \\ldots, 1999.$ 这里的集合 $T$ 仅仅由整数组成（即 $T\\in \\mathbb{Z}$），常被研究的时间序列下标集多半如此。\n",
    "- 随机变量 $X_t$ 的含义是：“年份 t 的太阳黑子数量”（**注意：不是“观测值”！**）\n",
    "- 对应的随机过程： $(X_t: t\\in T)$\n",
    "- 该随机过程的时间序列： $(x_t: t\\in T)$，其中诸 $x_t$ 是观测值"
   ]
  },
  {
   "cell_type": "markdown",
   "metadata": {},
   "source": [
    "## 时间序列的拆分理解\n",
    "\n",
    "最经典的时间序列理解，是将随机过程 $(X_t: t\\in T)$ 拆分成三个部分：\n",
    "\n",
    "$$ X_t = m_t + s_t + Y_t $$\n",
    "\n",
    "其中，常数序列 $(m_t: t\\in T)$ 是 **趋势（trend）**，或称均值部分（mean component）；常数序列 $(s_t: t\\in T)$ 称为 **季节（seasonality）**；剩下的随机变量序列 $(Y_t: t\\in T)$ 应当是一个均值为 0 的随机过程，可以理解为附加在趋势与季节上的波动。"
   ]
  },
  {
   "cell_type": "markdown",
   "metadata": {},
   "source": [
    "## 绘图\n",
    "\n",
    "绘制时间序列图便于我们对于它有直观的推测与初步的理解——无论如何，图像总是分析数据的不可或缺的手段。我这里选取了某一百年的太阳黑子观测数据（[本站下载](./data/sunspots.txt)），并借助 R 的 `plot.ts()` 命令来绘制其图像（相比图1，图2仅仅是添加了点型与线型）："
   ]
  },
  {
   "cell_type": "code",
   "execution_count": 2,
   "metadata": {},
   "outputs": [
    {
     "data": {
      "image/png": "[encoded data removed]",
      "text/plain": [
       "Plot with title \"Number of observed sunspots\""
      ]
     },
     "metadata": {},
     "output_type": "display_data"
    },
    {
     "data": {
      "image/png": "[encoded data removed]",
      "text/plain": [
       "Plot with title \"Number of observed sunspots\""
      ]
     },
     "metadata": {},
     "output_type": "display_data"
    }
   ],
   "source": [
    "x = read.table('data/sunspots.txt', header=TRUE)$X\n",
    "\n",
    "options(repr.plot.width=8, repr.plot.height=4)\n",
    "layout(matrix(c(1,1),2,1))\n",
    "plot.ts(x, main=\"Number of observed sunspots\")\n",
    "# Add line/point styles to the plot\n",
    "plot.ts(x, type=\"b\", cex=0.7, pch=19, main=\"Number of observed sunspots\")"
   ]
  },
  {
   "cell_type": "markdown",
   "metadata": {},
   "source": [
    "至于从上图中能够获取什么信息，我们在之后的章节再进行介绍。"
   ]
  }
 ],
 "metadata": {
  "kernelspec": {
   "display_name": "R",
   "language": "R",
   "name": "ir"
  },
  "language_info": {
   "codemirror_mode": "r",
   "file_extension": ".r",
   "mimetype": "text/x-r-source",
   "name": "R",
   "pygments_lexer": "r",
   "version": "3.4.4"
  }
 },
 "nbformat": 4,
 "nbformat_minor": 2
}
