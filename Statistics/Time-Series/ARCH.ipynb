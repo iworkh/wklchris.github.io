{
 "cells": [
  {
   "cell_type": "markdown",
   "metadata": {},
   "source": [
    "# ARCH/GARCH 模型\n",
    "\n",
    "<div class=\"alert alert-warning\">\n",
    "\n",
    "**选读章节** \n",
    "\n",
    "本章偏向金融领域的时间序列应用，笔者认为可作为选读章节。跳过本章节不影响其他章节的阅读。\n",
    "\n",
    "</div>"
   ]
  },
  {
   "cell_type": "raw",
   "metadata": {
    "raw_mimetype": "text/restructuredtext"
   },
   "source": [
    "本章介绍 ARCH（AutoRegressive conditional heteroskedasticity，自回归条件异方差）模型 [#f1]_ 以及相关内容（比如 GARCH），一种在金融时间序列领域中有广泛应用的模型。它由曾在麻省理工与加州圣迭戈执教过的罗伯特·恩格尔（Robert Engle）在 1982 年提出。恩格尔是 2003 年诺贝尔经济学奖的两位获奖者之一，而他获奖的原因就是他提出的 ARCH 模型：\n",
    "\n",
    "\"For methods of analyzing economic time series with time-varying volatility (ARCH).\" —— Noble Prize in Economic Sciences, 2003.\n",
    "\n",
    ".. rubric:: 文献\n",
    "\n",
    ".. [#f1] Engle, Robert F. (1982). \"Autoregressive Conditional Heteroscedasticity with Estimates of the Variance of United Kingdom Inflation\". Econometrica. 50 (4): 987–1007. doi:10.2307/1912773. JSTOR 1912773."
   ]
  },
  {
   "cell_type": "markdown",
   "metadata": {},
   "source": [
    "## ARCH 过程\n",
    "\n",
    "在许多时间序列的模型中，恒常波动率是一个重要的假设：即按照白噪声 $\\mathrm{WN}(0, \\sigma^2)$ 的残差假设进行拟合后，却在检验时发现其残差在不同的 $t$ 上表现出不同的波动（$\\sigma$ 不同）。但在实际应用中，我们常常发现一些需要研究的对象虽然是（严格）稳定的，却不是恒常波动的。这就是 ARCH 模型提出的缘由。\n",
    "\n",
    "一种解决非恒常波动的初步思路是：\n",
    "\n",
    "\\begin{equation}\n",
    "\\begin{cases}\n",
    "X_t = \\sigma_t Z_t， & Z_t \\overset{\\mathrm{iid}}{\\sim} \\mathrm{N}(0,1)，\\label{eq:ch-thought} \\\\ \n",
    "\\sigma_t \\in \\mathcal{F}_{t-1}^{Z}\n",
    "\\end{cases}\n",
    "\\end{equation}\n",
    "\n",
    "其中第二式表示 $\\sigma_t$ 是一个关于随机变量 $\\{Z_s: s\\leq t-1\\}$ 的函数。"
   ]
  },
  {
   "cell_type": "markdown",
   "metadata": {},
   "source": [
    "此外，对于上述 $Z_t$，我们还可以引申定义另一个随机过程 $(\\tilde{Z}_t: t\\in \\mathbb{Z})$：\n",
    "\n",
    "<div class=\"alert alert-info\">\n",
    "\n",
    "**引理（关于白噪声）**\n",
    "\n",
    "定义：\n",
    "\n",
    "\\begin{equation*}\n",
    "\\tilde{Z}_t = X_t^2 - \\sigma_t^2 = \\sigma_t^2(Z_t^2 - 1)\n",
    "\\end{equation*}\n",
    "\n",
    "假定 $(\\sigma_t: t\\in \\mathbb{Z})$ 稳定且存在有限的四阶矩 $E(\\sigma_t^4) < \\infty$，那么 $\\tilde{Z}_t \\sim \\mathrm{WN}(0, 2E(\\sigma_t^4))$。\n",
    "\n",
    "</div>\n",
    "\n",
    "**证**：这是因为：\n",
    "\n",
    "\\begin{gather*}\n",
    "E(\\tilde{Z}_t) = E(\\sigma_t^2)(E(Z_t^2)-1)=0, \\\\\n",
    "\\mathrm{Var}(\\tilde{Z}_t) = E(\\tilde{Z}_t^2) - 0^2 = E(\\sigma^4)E(Z_t^4 - 2Z_t^2 + 1) = E(\\sigma^4)(3-2+1) = 2E(\\sigma^4).\n",
    "\\end{gather*}"
   ]
  },
  {
   "cell_type": "markdown",
   "metadata": {},
   "source": [
    "### ARCH 定义\n",
    "\n",
    "接下来，我们来看在 ARCH 的定义中，对式 $\\eqref{eq:ch-thought}$ 中的函数 $\\mathcal{F}_{t-1}^{Z}$ 是如何构建的：\n",
    "\n",
    "<div class=\"alert alert-info\">\n",
    "\n",
    "**定义（ARCH 过程）** \n",
    "\n",
    "如果一个随机过程 $(X_t: t\\in\\mathbb{Z})$ 是稳定的，并且满足：\n",
    "\n",
    "\\begin{equation}\\label{eq:ARCH}\n",
    "\\begin{cases}\n",
    "X_t &= \\sigma_t Z_t \\\\\n",
    "\\sigma_t^2 &= \\alpha_0 + \\alpha_1 X_{t-1}^2 + \\cdots + \\alpha_p X_{t-p}^2\n",
    "\\end{cases}\n",
    "\\end{equation}\n",
    "\n",
    "其中 $Z_t \\overset{\\mathrm{iid}}{\\sim} \\mathrm{N}(0,1)$, $\\alpha_0 >0$ 且其余 $\\alpha_j\\geq 0$，那么称该随机过程 $(X_t: t\\in\\mathbb{Z})$ 是一个 $\\mathrm{ARCH}(p)$ 随机过程。\n",
    "\n",
    "</div>\n",
    "\n",
    "一些注意点：\n",
    "\n",
    "- $\\alpha_0$ 不能严格等于零是为了控制 $\\sigma_t^2$ 严格大于零。\n",
    "- 诸 $\\alpha_j$ 的选取须使得 $(X_t: t\\in\\mathbb{Z})$ 是稳定的。"
   ]
  },
  {
   "cell_type": "markdown",
   "metadata": {},
   "source": [
    "ARCH 模型与 AR 模型是有联系的：\n",
    "\n",
    "<div class=\"alert alert-info\">\n",
    "\n",
    "**引理（与 AR 模型的联系）**\n",
    "\n",
    "给定 $\\mathrm{ARCH}(p)$ 过程 $(X_t)$， 那么 $(X_t^2)$ 是一个均值为 $E(X_t^2) = \\alpha_0(1 - \\sum_{j=1}^p \\alpha_j)^{-1}$ 的 $\\mathrm{AR}(p)$ 过程，**当且仅当**满足以下条件：\n",
    "\n",
    "- 除 $\\alpha_0$ 外其余系数之和小于 1：$\\sum_{j=1}^p \\alpha_j < 1$，以及\n",
    "- $(X_t)$ 具有有限的四阶矩：$E(X_t^4) < \\infty$。\n",
    "\n",
    "</div>"
   ]
  },
  {
   "cell_type": "markdown",
   "metadata": {},
   "source": [
    "### ARCH 多项式与后移算子\n",
    "\n",
    "类似于 ARMA 模型，ARCH 模型也有多项式。对 $\\mathrm{ARCH}(p)$ 模型，其多项式为：\n",
    "\n",
    "\\begin{equation*}\n",
    "\\alpha(z) = \\alpha_1 z + \\alpha_2 z^2 + \\cdots + \\alpha_p z^p.\n",
    "\\end{equation*}\n",
    "\n",
    "因此，我们也能够将定义中的式 $\\eqref{eq:ARCH}$ 写成后移算子的形式：\n",
    "\n",
    "\\begin{equation*}\n",
    "\\sigma_t^2 = \\alpha_0 + \\alpha(B) X_t^2. \n",
    "\\end{equation*}\n",
    "\n",
    "又由 $\\sum_{j=1}^p \\alpha_j = \\alpha(1)$，我们可以将上一小节的引理中的 AR 模型均值化简： $E(X_t^2) = \\frac{\\alpha_0}{1 - \\alpha(1)}$。"
   ]
  }
 ],
 "metadata": {
  "celltoolbar": "Raw Cell Format",
  "kernelspec": {
   "display_name": "R",
   "language": "R",
   "name": "ir"
  },
  "language_info": {
   "codemirror_mode": "r",
   "file_extension": ".r",
   "mimetype": "text/x-r-source",
   "name": "R",
   "pygments_lexer": "r",
   "version": "3.6.1"
  }
 },
 "nbformat": 4,
 "nbformat_minor": 2
}
